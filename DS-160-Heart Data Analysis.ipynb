{
 "cells": [
  {
   "cell_type": "markdown",
   "id": "0ad0361c",
   "metadata": {},
   "source": [
    "## Heart analysis using Numpy"
   ]
  },
  {
   "cell_type": "code",
   "execution_count": 3,
   "id": "fe660cff",
   "metadata": {},
   "outputs": [],
   "source": [
    "import numpy as np"
   ]
  },
  {
   "cell_type": "markdown",
   "id": "61083052",
   "metadata": {},
   "source": [
    "## Loding Dataset"
   ]
  },
  {
   "cell_type": "code",
   "execution_count": 8,
   "id": "e7634f06",
   "metadata": {},
   "outputs": [],
   "source": [
    "data=np.genfromtxt(\"heart.csv\", delimiter=\",\", skip_header=True)"
   ]
  },
  {
   "cell_type": "markdown",
   "id": "99ff69e8",
   "metadata": {},
   "source": [
    "## extracting relavent columns"
   ]
  },
  {
   "cell_type": "markdown",
   "id": "8fbab424",
   "metadata": {},
   "source": [
    "#### FBS: Fasting blood sugar\n",
    "#### ECG: resting electrocardiogram\n",
    "#### CP: chest pain\n",
    "#### Chol: colesterol\n",
    "#### trestbps: resting blood pressure\n",
    "#### Oldpeak: ST depression caused by activitiy in comparision to rest\n",
    "#### Exang: excercise induced angina\n",
    "#### Thalach: maximum heart rate achived"
   ]
  },
  {
   "cell_type": "code",
   "execution_count": 13,
   "id": "0e0cc9b4",
   "metadata": {},
   "outputs": [
    {
     "name": "stdout",
     "output_type": "stream",
     "text": [
      "sex: [1. 1. 0. 1. 0.]\n",
      "target: [1. 1. 1. 1. 1.]\n",
      "chol: [233. 250. 204. 236. 354.]\n",
      "age: [63. 37. 41. 56. 57.]\n",
      "cp: [3. 2. 1. 1. 0.]\n",
      "thalach: [150. 187. 172. 178. 163.]\n"
     ]
    }
   ],
   "source": [
    "age=data[:, 0]\n",
    "print (f\"sex: {sex[:5]}\")\n",
    "target=data[:, -1]\n",
    "print(f\"target: {target [:5]}\")\n",
    "chol=data[:,4]\n",
    "print(f\"chol: {chol [:5]}\")\n",
    "sex=data [:,1]\n",
    "print(f\"age: {age[:5]}\")\n",
    "cp=data[:,2]\n",
    "print(f\"cp: {cp[:5]}\")\n",
    "thalach=data[:,7]\n",
    "print(f\"thalach: {thalach[:5]}\")"
   ]
  },
  {
   "cell_type": "markdown",
   "id": "d2e39bab",
   "metadata": {},
   "source": [
    "### Basic Descriptive statistics\n",
    "* Mean, Median, SD, Min, Max\n",
    "* sex and target excluded do to being binary values"
   ]
  },
  {
   "cell_type": "code",
   "execution_count": 14,
   "id": "dfeb5922",
   "metadata": {},
   "outputs": [
    {
     "name": "stdout",
     "output_type": "stream",
     "text": [
      "---Basic Descriptive Statistics on chol  ---\n",
      "Mean: 246\n",
      "Median: 240.0\n",
      "Standard Deviation: 52\n",
      "Min: 126.0\n",
      "Max: 564.0\n"
     ]
    }
   ],
   "source": [
    "print(\"---Basic Descriptive Statistics on chol  ---\")\n",
    "print(f\"Mean: {round(np.mean(chol))}\")\n",
    "print(f\"Median: {np.median(chol)}\")\n",
    "print(f\"Standard Deviation: {round(np.std(chol))}\")\n",
    "print(f\"Min: {np.min(chol)}\")\n",
    "print(f\"Max: {np.max(chol)}\")"
   ]
  },
  {
   "cell_type": "code",
   "execution_count": 15,
   "id": "0043d354",
   "metadata": {},
   "outputs": [
    {
     "name": "stdout",
     "output_type": "stream",
     "text": [
      "---Basic Descriptive Statistics on age  ---\n",
      "Mean: 54\n",
      "Median: 55.0\n",
      "Standard Deviation: 9\n",
      "Min: 29.0\n",
      "Max: 77.0\n"
     ]
    }
   ],
   "source": [
    "print(\"---Basic Descriptive Statistics on age  ---\")\n",
    "print(f\"Mean: {round(np.mean(age))}\")\n",
    "print(f\"Median: {np.median(age)}\")\n",
    "print(f\"Standard Deviation: {round(np.std(age))}\")\n",
    "print(f\"Min: {np.min(age)}\")\n",
    "print(f\"Max: {np.max(age)}\")"
   ]
  },
  {
   "cell_type": "code",
   "execution_count": 16,
   "id": "0b6f08fc",
   "metadata": {},
   "outputs": [
    {
     "name": "stdout",
     "output_type": "stream",
     "text": [
      "---Basic Descriptive Statistics on cp  ---\n",
      "Mean: 1\n",
      "Median: 1.0\n",
      "Standard Deviation: 1\n",
      "Min: 0.0\n",
      "Max: 3.0\n"
     ]
    }
   ],
   "source": [
    "print(\"---Basic Descriptive Statistics on cp  ---\")\n",
    "print(f\"Mean: {round(np.mean(cp))}\")\n",
    "print(f\"Median: {np.median(cp)}\")\n",
    "print(f\"Standard Deviation: {round(np.std(cp))}\")\n",
    "print(f\"Min: {np.min(cp)}\")\n",
    "print(f\"Max: {np.max(cp)}\")"
   ]
  },
  {
   "cell_type": "code",
   "execution_count": 17,
   "id": "5dbda0ab",
   "metadata": {
    "scrolled": true
   },
   "outputs": [
    {
     "name": "stdout",
     "output_type": "stream",
     "text": [
      "---Basic Descriptive Statistics on thalach  ---\n",
      "Mean: 150\n",
      "Median: 153.0\n",
      "Standard Deviation: 23\n",
      "Min: 71.0\n",
      "Max: 202.0\n"
     ]
    }
   ],
   "source": [
    "print(\"---Basic Descriptive Statistics on thalach  ---\")\n",
    "print(f\"Mean: {round(np.mean(thalach))}\")\n",
    "print(f\"Median: {np.median(thalach)}\")\n",
    "print(f\"Standard Deviation: {round(np.std(thalach))}\")\n",
    "print(f\"Min: {np.min(thalach)}\")\n",
    "print(f\"Max: {np.max(thalach)}\")"
   ]
  },
  {
   "cell_type": "markdown",
   "id": "89a6ca07",
   "metadata": {},
   "source": [
    "## data filtering"
   ]
  },
  {
   "cell_type": "code",
   "execution_count": 18,
   "id": "7ca49226",
   "metadata": {},
   "outputs": [
    {
     "name": "stdout",
     "output_type": "stream",
     "text": [
      "Number of rows before filtering: 303\n"
     ]
    }
   ],
   "source": [
    "print(f\"Number of rows before filtering: {len(data)}\")"
   ]
  },
  {
   "cell_type": "code",
   "execution_count": 19,
   "id": "02b6149e",
   "metadata": {},
   "outputs": [
    {
     "name": "stdout",
     "output_type": "stream",
     "text": [
      "Number of rows after filtering: 111\n"
     ]
    }
   ],
   "source": [
    "# how many are over 50 and have high colesterol\n",
    "filtered_data=data[(age>50) & (chol>240)]\n",
    "print(f\"Number of rows after filtering: {len(filtered_data)}\")"
   ]
  },
  {
   "cell_type": "markdown",
   "id": "f7520903",
   "metadata": {},
   "source": [
    "## how many entries where:\n",
    "* age ≥50,\n",
    "* chol≥240,\n",
    "* cp ≥2"
   ]
  },
  {
   "cell_type": "code",
   "execution_count": 23,
   "id": "da48973e",
   "metadata": {},
   "outputs": [
    {
     "name": "stdout",
     "output_type": "stream",
     "text": [
      "Number of rows after filtering: 37\n"
     ]
    }
   ],
   "source": [
    "filtered_data1=data[(age>=50) & (chol>=240)&(cp>=2)]\n",
    "print(f\"Number of rows after filtering: {len(filtered_data1)}\")"
   ]
  },
  {
   "cell_type": "markdown",
   "id": "e6de840b",
   "metadata": {},
   "source": [
    "### Number of unique categories\n",
    "* Unique can work for discreet variables"
   ]
  },
  {
   "cell_type": "code",
   "execution_count": 24,
   "id": "84364c82",
   "metadata": {},
   "outputs": [
    {
     "name": "stdout",
     "output_type": "stream",
     "text": [
      "Unique bedroom counts: [126. 131. 141. 149. 157. 160. 164. 166. 167. 168. 169. 172. 174. 175.\n",
      " 176. 177. 178. 180. 182. 183. 184. 185. 186. 187. 188. 192. 193. 195.\n",
      " 196. 197. 198. 199. 200. 201. 203. 204. 205. 206. 207. 208. 209. 210.\n",
      " 211. 212. 213. 214. 215. 216. 217. 218. 219. 220. 221. 222. 223. 224.\n",
      " 225. 226. 227. 228. 229. 230. 231. 232. 233. 234. 235. 236. 237. 239.\n",
      " 240. 241. 242. 243. 244. 245. 246. 247. 248. 249. 250. 252. 253. 254.\n",
      " 255. 256. 257. 258. 259. 260. 261. 262. 263. 264. 265. 266. 267. 268.\n",
      " 269. 270. 271. 273. 274. 275. 276. 277. 278. 281. 282. 283. 284. 286.\n",
      " 288. 289. 290. 293. 294. 295. 298. 299. 300. 302. 303. 304. 305. 306.\n",
      " 307. 308. 309. 311. 313. 315. 318. 319. 321. 322. 325. 326. 327. 330.\n",
      " 335. 340. 341. 342. 353. 354. 360. 394. 407. 409. 417. 564.]\n",
      " How many unique bedrooms: 4\n"
     ]
    }
   ],
   "source": [
    "print(f\"Unique bedroom counts: {np.unique(chol)}\")\n",
    "print(f\" How many unique bedrooms: {len(np.unique(cp))}\")"
   ]
  },
  {
   "cell_type": "code",
   "execution_count": 25,
   "id": "90a686ed",
   "metadata": {},
   "outputs": [
    {
     "name": "stdout",
     "output_type": "stream",
     "text": [
      "Unique bedroom counts: [126. 131. 141. 149. 157. 160. 164. 166. 167. 168. 169. 172. 174. 175.\n",
      " 176. 177. 178. 180. 182. 183. 184. 185. 186. 187. 188. 192. 193. 195.\n",
      " 196. 197. 198. 199. 200. 201. 203. 204. 205. 206. 207. 208. 209. 210.\n",
      " 211. 212. 213. 214. 215. 216. 217. 218. 219. 220. 221. 222. 223. 224.\n",
      " 225. 226. 227. 228. 229. 230. 231. 232. 233. 234. 235. 236. 237. 239.\n",
      " 240. 241. 242. 243. 244. 245. 246. 247. 248. 249. 250. 252. 253. 254.\n",
      " 255. 256. 257. 258. 259. 260. 261. 262. 263. 264. 265. 266. 267. 268.\n",
      " 269. 270. 271. 273. 274. 275. 276. 277. 278. 281. 282. 283. 284. 286.\n",
      " 288. 289. 290. 293. 294. 295. 298. 299. 300. 302. 303. 304. 305. 306.\n",
      " 307. 308. 309. 311. 313. 315. 318. 319. 321. 322. 325. 326. 327. 330.\n",
      " 335. 340. 341. 342. 353. 354. 360. 394. 407. 409. 417. 564.]\n",
      " How many unique bedrooms: 152\n"
     ]
    }
   ],
   "source": [
    "print(f\"Unique bedroom counts: {np.unique(chol)}\")\n",
    "print(f\" How many unique bedrooms: {len(np.unique(chol))}\")"
   ]
  },
  {
   "cell_type": "code",
   "execution_count": 26,
   "id": "2322ecfe",
   "metadata": {},
   "outputs": [
    {
     "name": "stdout",
     "output_type": "stream",
     "text": [
      "Unique bedroom counts: [29. 34. 35. 37. 38. 39. 40. 41. 42. 43. 44. 45. 46. 47. 48. 49. 50. 51.\n",
      " 52. 53. 54. 55. 56. 57. 58. 59. 60. 61. 62. 63. 64. 65. 66. 67. 68. 69.\n",
      " 70. 71. 74. 76. 77.]\n",
      " How many unique bedrooms: 41\n"
     ]
    }
   ],
   "source": [
    "print(f\"Unique bedroom counts: {np.unique(age)}\")\n",
    "print(f\" How many unique bedrooms: {len(np.unique(age))}\")"
   ]
  },
  {
   "cell_type": "markdown",
   "id": "f5710f3c",
   "metadata": {},
   "source": [
    "# correlation"
   ]
  },
  {
   "cell_type": "code",
   "execution_count": 28,
   "id": "91a528e9",
   "metadata": {},
   "outputs": [
    {
     "name": "stdout",
     "output_type": "stream",
     "text": [
      "Corr age and CP [[ 1.         -0.06865302]\n",
      " [-0.06865302  1.        ]]\n"
     ]
    }
   ],
   "source": [
    "corr_heart_cp=np.corrcoef(age,cp,rowvar=False)\n",
    "print(f\"Corr age and CP {corr_heart_cp}\")"
   ]
  },
  {
   "cell_type": "code",
   "execution_count": 29,
   "id": "82e484d2",
   "metadata": {},
   "outputs": [
    {
     "name": "stdout",
     "output_type": "stream",
     "text": [
      "Corr age and chol [[1.         0.21367796]\n",
      " [0.21367796 1.        ]]\n"
     ]
    }
   ],
   "source": [
    "corr_heart_chol=np.corrcoef(age,chol,rowvar=False)\n",
    "print(f\"Corr age and chol {corr_heart_chol}\")"
   ]
  },
  {
   "cell_type": "code",
   "execution_count": 30,
   "id": "4e38f039",
   "metadata": {
    "scrolled": true
   },
   "outputs": [
    {
     "name": "stdout",
     "output_type": "stream",
     "text": [
      "Corr chol and CP [[ 1.         -0.07690439]\n",
      " [-0.07690439  1.        ]]\n"
     ]
    }
   ],
   "source": [
    "corr_heart_cp_chol=np.corrcoef(chol,cp,rowvar=False)\n",
    "print(f\"Corr chol and CP {corr_heart_cp_chol}\")"
   ]
  },
  {
   "cell_type": "markdown",
   "id": "54baec96",
   "metadata": {},
   "source": [
    "* age and chol (0.213) weak and positive\n",
    "* age and cp (-0.068) weak and negative\n",
    "* cp and chol (-0.077) weak and negative"
   ]
  },
  {
   "cell_type": "markdown",
   "id": "d53aab7b",
   "metadata": {},
   "source": [
    "# summary"
   ]
  },
  {
   "cell_type": "markdown",
   "id": "a9f93ba8",
   "metadata": {},
   "source": [
    "Based on the three key values selected of age, colesterol, and chest pain. there is not a very significant correlation between these values. all three combinations of chol and cp, chol and age, and age and cp result in relativly weak correlations with age and cp and chol and cp having negative relationships, while age and chol has a positive relationship. thus, based on the data presented a relationship between the key values is not certain. however, it is likely that given more data or a different correlation model there could be a statistically significant result. "
   ]
  },
  {
   "cell_type": "code",
   "execution_count": null,
   "id": "be77264c",
   "metadata": {},
   "outputs": [],
   "source": []
  }
 ],
 "metadata": {
  "kernelspec": {
   "display_name": "Python 3 (ipykernel)",
   "language": "python",
   "name": "python3"
  },
  "language_info": {
   "codemirror_mode": {
    "name": "ipython",
    "version": 3
   },
   "file_extension": ".py",
   "mimetype": "text/x-python",
   "name": "python",
   "nbconvert_exporter": "python",
   "pygments_lexer": "ipython3",
   "version": "3.9.13"
  }
 },
 "nbformat": 4,
 "nbformat_minor": 5
}
